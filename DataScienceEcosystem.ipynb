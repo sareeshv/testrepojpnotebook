{
 "cells": [
  {
   "cell_type": "markdown",
   "id": "66bcfa7f-8ebf-4255-8140-95566c94c1df",
   "metadata": {
    "tags": []
   },
   "source": [
    "# Execute it as a markdown cell\n",
    "# H1: In this notebook, Data Science Tools and Ecosystem are summarized."
   ]
  },
  {
   "cell_type": "markdown",
   "id": "7ca4e28d-288d-4e59-b9b1-aae0bb5281a9",
   "metadata": {},
   "source": [
    "## Execute as a markdown cell\n",
    "__In this notebook, Data Science Tools and Ecosystem are summarized.__"
   ]
  },
  {
   "cell_type": "markdown",
   "id": "ea6133ef-2f4c-4021-ba52-9230f62ba853",
   "metadata": {
    "tags": []
   },
   "source": [
    "## Execute as a markdown cell\n",
    "\n",
    "## H2: Some of the commonly used libraries used by Data Scientists include:\n",
    "\n",
    "1. Python\n",
    "2. R\n",
    "3. Scala\n",
    "4. Java"
   ]
  },
  {
   "cell_type": "markdown",
   "id": "e4c61bce-ccef-48ab-b2e5-c59e710a133d",
   "metadata": {},
   "source": [
    "## Some of the commonly used libraries used by Data Scientists include:\n",
    "\n",
    "1. NumPy\n",
    "2. Pandas\n",
    "3. Matplotlib\n",
    "4. TensorFlow"
   ]
  },
  {
   "cell_type": "markdown",
   "id": "2b808845-1db4-407a-8163-d40422217020",
   "metadata": {},
   "source": [
    "| Data Science Tools |\n",
    "| ------------------  |\n",
    "| Apache Spark |\n",
    "| TensorFlow |\n",
    "| RStudio |"
   ]
  },
  {
   "cell_type": "markdown",
   "id": "35d692e0-b525-4645-8a33-f4e648b07489",
   "metadata": {},
   "source": [
    "### Below are a few examples of evaluating arithmetic expressions in Python"
   ]
  },
  {
   "cell_type": "code",
   "execution_count": 2,
   "id": "9c86212a-b80b-4890-8e59-561d8b852ed9",
   "metadata": {
    "tags": []
   },
   "outputs": [
    {
     "data": {
      "text/plain": [
       "17"
      ]
     },
     "execution_count": 2,
     "metadata": {},
     "output_type": "execute_result"
    }
   ],
   "source": [
    "# This a simple arithmetic expression to mutiply then add integers\n",
    "(3*4)+5"
   ]
  },
  {
   "cell_type": "code",
   "execution_count": 5,
   "id": "6fd47710-878b-42bc-8d0d-007fd83493dc",
   "metadata": {
    "tags": []
   },
   "outputs": [
    {
     "data": {
      "text/plain": [
       "3.3333333333333335"
      ]
     },
     "execution_count": 5,
     "metadata": {},
     "output_type": "execute_result"
    }
   ],
   "source": [
    "# This will convert 200 minutes to hours by diving by 60\n",
    "\n",
    "200/60"
   ]
  },
  {
   "cell_type": "markdown",
   "id": "1d7513f6-3dee-4a94-849e-351ecb87cd28",
   "metadata": {},
   "source": [
    "__Objectives__:\n",
    "\n",
    "* Python\n",
    "* R\n",
    "* SQL\n",
    "* Julia\n",
    "* Javascript"
   ]
  },
  {
   "cell_type": "code",
   "execution_count": null,
   "id": "82a4b75e-60c4-40a9-b792-8fa0a66c44fc",
   "metadata": {},
   "outputs": [],
   "source": []
  }
 ],
 "metadata": {
  "kernelspec": {
   "display_name": "Python",
   "language": "python",
   "name": "conda-env-python-py"
  },
  "language_info": {
   "codemirror_mode": {
    "name": "ipython",
    "version": 3
   },
   "file_extension": ".py",
   "mimetype": "text/x-python",
   "name": "python",
   "nbconvert_exporter": "python",
   "pygments_lexer": "ipython3",
   "version": "3.7.12"
  }
 },
 "nbformat": 4,
 "nbformat_minor": 5
}
